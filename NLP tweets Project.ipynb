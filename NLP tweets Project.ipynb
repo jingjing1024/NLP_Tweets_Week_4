{
  "cells": [
    {
      "cell_type": "markdown",
      "id": "55dc2ab1-b92f-4e50-ab1b-d41fa9d09744",
      "metadata": {
        "id": "55dc2ab1-b92f-4e50-ab1b-d41fa9d09744"
      },
      "source": [
        "# Natural Language Processing with Disaster Tweets\n",
        "\n",
        "\n",
        "## Overview/ Description of Problem and Data\n",
        "\n",
        "This project is from Kaggle competitions[https://www.kaggle.com/competitions/nlp-getting-started/overview]. I will use natural language processing to classify the tweets from dataset are either non-disaster related or disaster related. The dataset are tweets and featured with text, location, and keyword. After inspecting, cleaning and preprocessing the dataset,  all special characters and url will be removed and ready to process.\n"
      ]
    },
    {
      "cell_type": "code",
      "execution_count": 88,
      "metadata": {
        "outputId": "ead3f30c-ff83-44dd-f3cd-9318eeeb8ad7",
        "colab": {
          "base_uri": "https://localhost:8080/"
        },
        "id": "jBw-pIDGHn-f"
      },
      "outputs": [
        {
          "output_type": "stream",
          "name": "stderr",
          "text": [
            "[nltk_data] Downloading package stopwords to /root/nltk_data...\n",
            "[nltk_data]   Package stopwords is already up-to-date!\n",
            "[nltk_data] Downloading package wordnet to /root/nltk_data...\n",
            "[nltk_data]   Package wordnet is already up-to-date!\n",
            "[nltk_data] Downloading package omw-1.4 to /root/nltk_data...\n",
            "[nltk_data]   Package omw-1.4 is already up-to-date!\n"
          ]
        }
      ],
      "source": [
        "import tensorflow as tf\n",
        "import pandas as pd\n",
        "import numpy as np\n",
        "import os\n",
        "import re\n",
        "import matplotlib.pyplot as plt\n",
        "import datetime\n",
        "import seaborn as sns\n",
        "import matplotlib\n",
        "import warnings\n",
        "from sklearn.feature_extraction.text import TfidfVectorizer\n",
        "from sklearn.model_selection import train_test_split\n",
        "import nltk\n",
        "nltk.download('stopwords')\n",
        "nltk.download('wordnet')\n",
        "nltk.download('omw-1.4')\n",
        "from nltk.corpus import stopwords\n",
        "from nltk.stem import WordNetLemmatizer\n",
        "from nltk import WordNetLemmatizer\n",
        "from nltk.corpus import stopwords\n",
        "from string import punctuation, digits, printable\n",
        "from tensorflow.keras.preprocessing.text import Tokenizer\n",
        "from tensorflow.keras.preprocessing.sequence import pad_sequences\n",
        "from sklearn.model_selection import train_test_split\n",
        "from tensorflow import keras\n",
        "from tensorflow.keras.layers import Dense, Embedding, LSTM, Dropout\n",
        "from tensorflow.keras import optimizers\n",
        "from tensorflow.keras.models import Sequential\n",
        "from tensorflow.keras import layers\n",
        "from keras.callbacks import EarlyStopping, ReduceLROnPlateau\n",
        "from sklearn import metrics\n",
        "from sklearn.metrics import confusion_matrix\n",
        "from sklearn.metrics import classification_report\n",
        "\n",
        "warnings.filterwarnings('ignore')\n",
        "%matplotlib inline\n",
        "pd.set_option('display.max_columns', None)\n",
        "color = ['#247BA0', '#F6511D', '#7FB800', '#FFB400', '#F25F5C', '#50514F']"
      ],
      "id": "jBw-pIDGHn-f"
    },
    {
      "cell_type": "markdown",
      "source": [
        "## Exploratory Data Analysis (EDA) — Inspect, Visualize and Clean the Data\n",
        "\n"
      ],
      "metadata": {
        "id": "FWBHlKUXHxlC"
      },
      "id": "FWBHlKUXHxlC"
    },
    {
      "cell_type": "code",
      "execution_count": 27,
      "id": "7baf4a46-4ee1-425e-83ee-2da1d8598ba8",
      "metadata": {
        "id": "7baf4a46-4ee1-425e-83ee-2da1d8598ba8",
        "outputId": "ebecd0d7-f341-46b4-eea8-ed88b4ca8b4f",
        "colab": {
          "base_uri": "https://localhost:8080/"
        }
      },
      "outputs": [
        {
          "output_type": "stream",
          "name": "stdout",
          "text": [
            "<class 'pandas.core.frame.DataFrame'>\n",
            "RangeIndex: 7613 entries, 0 to 7612\n",
            "Data columns (total 5 columns):\n",
            " #   Column    Non-Null Count  Dtype \n",
            "---  ------    --------------  ----- \n",
            " 0   id        7613 non-null   int64 \n",
            " 1   keyword   7552 non-null   object\n",
            " 2   location  5080 non-null   object\n",
            " 3   text      7613 non-null   object\n",
            " 4   target    7613 non-null   int64 \n",
            "dtypes: int64(2), object(3)\n",
            "memory usage: 297.5+ KB\n",
            "None\n"
          ]
        }
      ],
      "source": [
        "Train_data = pd.read_csv(\"./sample_data/train.csv\")\n",
        "Test_data = pd.read_csv(\"./sample_data/test.csv\")\n",
        "Submission = pd.read_csv(\"./sample_data/sample_submission.csv\")\n",
        "print(Train_data.info())"
      ]
    },
    {
      "cell_type": "code",
      "source": [
        "Train_data.head(10)"
      ],
      "metadata": {
        "colab": {
          "base_uri": "https://localhost:8080/",
          "height": 363
        },
        "id": "0C_ehLaM6vWd",
        "outputId": "add8b6b9-63e5-4d2a-b071-91fc814d543b"
      },
      "id": "0C_ehLaM6vWd",
      "execution_count": 28,
      "outputs": [
        {
          "output_type": "execute_result",
          "data": {
            "text/plain": [
              "   id keyword location                                               text  \\\n",
              "0   1     NaN      NaN  Our Deeds are the Reason of this #earthquake M...   \n",
              "1   4     NaN      NaN             Forest fire near La Ronge Sask. Canada   \n",
              "2   5     NaN      NaN  All residents asked to 'shelter in place' are ...   \n",
              "3   6     NaN      NaN  13,000 people receive #wildfires evacuation or...   \n",
              "4   7     NaN      NaN  Just got sent this photo from Ruby #Alaska as ...   \n",
              "5   8     NaN      NaN  #RockyFire Update => California Hwy. 20 closed...   \n",
              "6  10     NaN      NaN  #flood #disaster Heavy rain causes flash flood...   \n",
              "7  13     NaN      NaN  I'm on top of the hill and I can see a fire in...   \n",
              "8  14     NaN      NaN  There's an emergency evacuation happening now ...   \n",
              "9  15     NaN      NaN  I'm afraid that the tornado is coming to our a...   \n",
              "\n",
              "   target  \n",
              "0       1  \n",
              "1       1  \n",
              "2       1  \n",
              "3       1  \n",
              "4       1  \n",
              "5       1  \n",
              "6       1  \n",
              "7       1  \n",
              "8       1  \n",
              "9       1  "
            ],
            "text/html": [
              "\n",
              "  <div id=\"df-7ee1b0c7-5fca-407b-b91e-a1f37bc7cfdc\">\n",
              "    <div class=\"colab-df-container\">\n",
              "      <div>\n",
              "<style scoped>\n",
              "    .dataframe tbody tr th:only-of-type {\n",
              "        vertical-align: middle;\n",
              "    }\n",
              "\n",
              "    .dataframe tbody tr th {\n",
              "        vertical-align: top;\n",
              "    }\n",
              "\n",
              "    .dataframe thead th {\n",
              "        text-align: right;\n",
              "    }\n",
              "</style>\n",
              "<table border=\"1\" class=\"dataframe\">\n",
              "  <thead>\n",
              "    <tr style=\"text-align: right;\">\n",
              "      <th></th>\n",
              "      <th>id</th>\n",
              "      <th>keyword</th>\n",
              "      <th>location</th>\n",
              "      <th>text</th>\n",
              "      <th>target</th>\n",
              "    </tr>\n",
              "  </thead>\n",
              "  <tbody>\n",
              "    <tr>\n",
              "      <th>0</th>\n",
              "      <td>1</td>\n",
              "      <td>NaN</td>\n",
              "      <td>NaN</td>\n",
              "      <td>Our Deeds are the Reason of this #earthquake M...</td>\n",
              "      <td>1</td>\n",
              "    </tr>\n",
              "    <tr>\n",
              "      <th>1</th>\n",
              "      <td>4</td>\n",
              "      <td>NaN</td>\n",
              "      <td>NaN</td>\n",
              "      <td>Forest fire near La Ronge Sask. Canada</td>\n",
              "      <td>1</td>\n",
              "    </tr>\n",
              "    <tr>\n",
              "      <th>2</th>\n",
              "      <td>5</td>\n",
              "      <td>NaN</td>\n",
              "      <td>NaN</td>\n",
              "      <td>All residents asked to 'shelter in place' are ...</td>\n",
              "      <td>1</td>\n",
              "    </tr>\n",
              "    <tr>\n",
              "      <th>3</th>\n",
              "      <td>6</td>\n",
              "      <td>NaN</td>\n",
              "      <td>NaN</td>\n",
              "      <td>13,000 people receive #wildfires evacuation or...</td>\n",
              "      <td>1</td>\n",
              "    </tr>\n",
              "    <tr>\n",
              "      <th>4</th>\n",
              "      <td>7</td>\n",
              "      <td>NaN</td>\n",
              "      <td>NaN</td>\n",
              "      <td>Just got sent this photo from Ruby #Alaska as ...</td>\n",
              "      <td>1</td>\n",
              "    </tr>\n",
              "    <tr>\n",
              "      <th>5</th>\n",
              "      <td>8</td>\n",
              "      <td>NaN</td>\n",
              "      <td>NaN</td>\n",
              "      <td>#RockyFire Update =&gt; California Hwy. 20 closed...</td>\n",
              "      <td>1</td>\n",
              "    </tr>\n",
              "    <tr>\n",
              "      <th>6</th>\n",
              "      <td>10</td>\n",
              "      <td>NaN</td>\n",
              "      <td>NaN</td>\n",
              "      <td>#flood #disaster Heavy rain causes flash flood...</td>\n",
              "      <td>1</td>\n",
              "    </tr>\n",
              "    <tr>\n",
              "      <th>7</th>\n",
              "      <td>13</td>\n",
              "      <td>NaN</td>\n",
              "      <td>NaN</td>\n",
              "      <td>I'm on top of the hill and I can see a fire in...</td>\n",
              "      <td>1</td>\n",
              "    </tr>\n",
              "    <tr>\n",
              "      <th>8</th>\n",
              "      <td>14</td>\n",
              "      <td>NaN</td>\n",
              "      <td>NaN</td>\n",
              "      <td>There's an emergency evacuation happening now ...</td>\n",
              "      <td>1</td>\n",
              "    </tr>\n",
              "    <tr>\n",
              "      <th>9</th>\n",
              "      <td>15</td>\n",
              "      <td>NaN</td>\n",
              "      <td>NaN</td>\n",
              "      <td>I'm afraid that the tornado is coming to our a...</td>\n",
              "      <td>1</td>\n",
              "    </tr>\n",
              "  </tbody>\n",
              "</table>\n",
              "</div>\n",
              "      <button class=\"colab-df-convert\" onclick=\"convertToInteractive('df-7ee1b0c7-5fca-407b-b91e-a1f37bc7cfdc')\"\n",
              "              title=\"Convert this dataframe to an interactive table.\"\n",
              "              style=\"display:none;\">\n",
              "        \n",
              "  <svg xmlns=\"http://www.w3.org/2000/svg\" height=\"24px\"viewBox=\"0 0 24 24\"\n",
              "       width=\"24px\">\n",
              "    <path d=\"M0 0h24v24H0V0z\" fill=\"none\"/>\n",
              "    <path d=\"M18.56 5.44l.94 2.06.94-2.06 2.06-.94-2.06-.94-.94-2.06-.94 2.06-2.06.94zm-11 1L8.5 8.5l.94-2.06 2.06-.94-2.06-.94L8.5 2.5l-.94 2.06-2.06.94zm10 10l.94 2.06.94-2.06 2.06-.94-2.06-.94-.94-2.06-.94 2.06-2.06.94z\"/><path d=\"M17.41 7.96l-1.37-1.37c-.4-.4-.92-.59-1.43-.59-.52 0-1.04.2-1.43.59L10.3 9.45l-7.72 7.72c-.78.78-.78 2.05 0 2.83L4 21.41c.39.39.9.59 1.41.59.51 0 1.02-.2 1.41-.59l7.78-7.78 2.81-2.81c.8-.78.8-2.07 0-2.86zM5.41 20L4 18.59l7.72-7.72 1.47 1.35L5.41 20z\"/>\n",
              "  </svg>\n",
              "      </button>\n",
              "      \n",
              "  <style>\n",
              "    .colab-df-container {\n",
              "      display:flex;\n",
              "      flex-wrap:wrap;\n",
              "      gap: 12px;\n",
              "    }\n",
              "\n",
              "    .colab-df-convert {\n",
              "      background-color: #E8F0FE;\n",
              "      border: none;\n",
              "      border-radius: 50%;\n",
              "      cursor: pointer;\n",
              "      display: none;\n",
              "      fill: #1967D2;\n",
              "      height: 32px;\n",
              "      padding: 0 0 0 0;\n",
              "      width: 32px;\n",
              "    }\n",
              "\n",
              "    .colab-df-convert:hover {\n",
              "      background-color: #E2EBFA;\n",
              "      box-shadow: 0px 1px 2px rgba(60, 64, 67, 0.3), 0px 1px 3px 1px rgba(60, 64, 67, 0.15);\n",
              "      fill: #174EA6;\n",
              "    }\n",
              "\n",
              "    [theme=dark] .colab-df-convert {\n",
              "      background-color: #3B4455;\n",
              "      fill: #D2E3FC;\n",
              "    }\n",
              "\n",
              "    [theme=dark] .colab-df-convert:hover {\n",
              "      background-color: #434B5C;\n",
              "      box-shadow: 0px 1px 3px 1px rgba(0, 0, 0, 0.15);\n",
              "      filter: drop-shadow(0px 1px 2px rgba(0, 0, 0, 0.3));\n",
              "      fill: #FFFFFF;\n",
              "    }\n",
              "  </style>\n",
              "\n",
              "      <script>\n",
              "        const buttonEl =\n",
              "          document.querySelector('#df-7ee1b0c7-5fca-407b-b91e-a1f37bc7cfdc button.colab-df-convert');\n",
              "        buttonEl.style.display =\n",
              "          google.colab.kernel.accessAllowed ? 'block' : 'none';\n",
              "\n",
              "        async function convertToInteractive(key) {\n",
              "          const element = document.querySelector('#df-7ee1b0c7-5fca-407b-b91e-a1f37bc7cfdc');\n",
              "          const dataTable =\n",
              "            await google.colab.kernel.invokeFunction('convertToInteractive',\n",
              "                                                     [key], {});\n",
              "          if (!dataTable) return;\n",
              "\n",
              "          const docLinkHtml = 'Like what you see? Visit the ' +\n",
              "            '<a target=\"_blank\" href=https://colab.research.google.com/notebooks/data_table.ipynb>data table notebook</a>'\n",
              "            + ' to learn more about interactive tables.';\n",
              "          element.innerHTML = '';\n",
              "          dataTable['output_type'] = 'display_data';\n",
              "          await google.colab.output.renderOutput(dataTable, element);\n",
              "          const docLink = document.createElement('div');\n",
              "          docLink.innerHTML = docLinkHtml;\n",
              "          element.appendChild(docLink);\n",
              "        }\n",
              "      </script>\n",
              "    </div>\n",
              "  </div>\n",
              "  "
            ]
          },
          "metadata": {},
          "execution_count": 28
        }
      ]
    },
    {
      "cell_type": "code",
      "execution_count": 29,
      "id": "ff268944-153d-4641-8ee7-7367983879a1",
      "metadata": {
        "id": "ff268944-153d-4641-8ee7-7367983879a1",
        "outputId": "15b6aeb5-0b4c-4ca6-e169-fe481efa1c31",
        "colab": {
          "base_uri": "https://localhost:8080/"
        }
      },
      "outputs": [
        {
          "output_type": "stream",
          "name": "stdout",
          "text": [
            "                 id      target\n",
            "count   7613.000000  7613.00000\n",
            "mean    5441.934848     0.42966\n",
            "std     3137.116090     0.49506\n",
            "min        1.000000     0.00000\n",
            "25%     2734.000000     0.00000\n",
            "50%     5408.000000     0.00000\n",
            "75%     8146.000000     1.00000\n",
            "max    10873.000000     1.00000\n"
          ]
        }
      ],
      "source": [
        "print(Train_data.describe())"
      ]
    },
    {
      "cell_type": "code",
      "execution_count": 30,
      "id": "1937b3a7-bd0d-4957-aeb3-5ca3d8ab1c35",
      "metadata": {
        "id": "1937b3a7-bd0d-4957-aeb3-5ca3d8ab1c35",
        "outputId": "641ba101-b8ab-44e2-d5cf-3af1ebd4ebcb",
        "colab": {
          "base_uri": "https://localhost:8080/",
          "height": 206
        }
      },
      "outputs": [
        {
          "output_type": "execute_result",
          "data": {
            "text/plain": [
              "        id      keyword                location  \\\n",
              "3967  5638     flooding         California, USA   \n",
              "222    315  annihilated                     NaN   \n",
              "2273  3260     demolish       State of Dreaming   \n",
              "2211  3167       deluge           Melbourne-ish   \n",
              "3404  4874      explode  New Orleans, Louisiana   \n",
              "\n",
              "                                                   text  target  \n",
              "3967  So grateful for all the support flooding in fr...       1  \n",
              "222   @AmirKingKhan you would have been annihilated ...       0  \n",
              "2273  Just us four can demolish this?? @Createduniqu...       0  \n",
              "2211  Despite the deluge of #FantasticFour notices o...       0  \n",
              "3404  See these guys reaching the front foot out loa...       0  "
            ],
            "text/html": [
              "\n",
              "  <div id=\"df-0dcdf00b-5c07-4502-9a6c-2359af0243b9\">\n",
              "    <div class=\"colab-df-container\">\n",
              "      <div>\n",
              "<style scoped>\n",
              "    .dataframe tbody tr th:only-of-type {\n",
              "        vertical-align: middle;\n",
              "    }\n",
              "\n",
              "    .dataframe tbody tr th {\n",
              "        vertical-align: top;\n",
              "    }\n",
              "\n",
              "    .dataframe thead th {\n",
              "        text-align: right;\n",
              "    }\n",
              "</style>\n",
              "<table border=\"1\" class=\"dataframe\">\n",
              "  <thead>\n",
              "    <tr style=\"text-align: right;\">\n",
              "      <th></th>\n",
              "      <th>id</th>\n",
              "      <th>keyword</th>\n",
              "      <th>location</th>\n",
              "      <th>text</th>\n",
              "      <th>target</th>\n",
              "    </tr>\n",
              "  </thead>\n",
              "  <tbody>\n",
              "    <tr>\n",
              "      <th>3967</th>\n",
              "      <td>5638</td>\n",
              "      <td>flooding</td>\n",
              "      <td>California, USA</td>\n",
              "      <td>So grateful for all the support flooding in fr...</td>\n",
              "      <td>1</td>\n",
              "    </tr>\n",
              "    <tr>\n",
              "      <th>222</th>\n",
              "      <td>315</td>\n",
              "      <td>annihilated</td>\n",
              "      <td>NaN</td>\n",
              "      <td>@AmirKingKhan you would have been annihilated ...</td>\n",
              "      <td>0</td>\n",
              "    </tr>\n",
              "    <tr>\n",
              "      <th>2273</th>\n",
              "      <td>3260</td>\n",
              "      <td>demolish</td>\n",
              "      <td>State of Dreaming</td>\n",
              "      <td>Just us four can demolish this?? @Createduniqu...</td>\n",
              "      <td>0</td>\n",
              "    </tr>\n",
              "    <tr>\n",
              "      <th>2211</th>\n",
              "      <td>3167</td>\n",
              "      <td>deluge</td>\n",
              "      <td>Melbourne-ish</td>\n",
              "      <td>Despite the deluge of #FantasticFour notices o...</td>\n",
              "      <td>0</td>\n",
              "    </tr>\n",
              "    <tr>\n",
              "      <th>3404</th>\n",
              "      <td>4874</td>\n",
              "      <td>explode</td>\n",
              "      <td>New Orleans, Louisiana</td>\n",
              "      <td>See these guys reaching the front foot out loa...</td>\n",
              "      <td>0</td>\n",
              "    </tr>\n",
              "  </tbody>\n",
              "</table>\n",
              "</div>\n",
              "      <button class=\"colab-df-convert\" onclick=\"convertToInteractive('df-0dcdf00b-5c07-4502-9a6c-2359af0243b9')\"\n",
              "              title=\"Convert this dataframe to an interactive table.\"\n",
              "              style=\"display:none;\">\n",
              "        \n",
              "  <svg xmlns=\"http://www.w3.org/2000/svg\" height=\"24px\"viewBox=\"0 0 24 24\"\n",
              "       width=\"24px\">\n",
              "    <path d=\"M0 0h24v24H0V0z\" fill=\"none\"/>\n",
              "    <path d=\"M18.56 5.44l.94 2.06.94-2.06 2.06-.94-2.06-.94-.94-2.06-.94 2.06-2.06.94zm-11 1L8.5 8.5l.94-2.06 2.06-.94-2.06-.94L8.5 2.5l-.94 2.06-2.06.94zm10 10l.94 2.06.94-2.06 2.06-.94-2.06-.94-.94-2.06-.94 2.06-2.06.94z\"/><path d=\"M17.41 7.96l-1.37-1.37c-.4-.4-.92-.59-1.43-.59-.52 0-1.04.2-1.43.59L10.3 9.45l-7.72 7.72c-.78.78-.78 2.05 0 2.83L4 21.41c.39.39.9.59 1.41.59.51 0 1.02-.2 1.41-.59l7.78-7.78 2.81-2.81c.8-.78.8-2.07 0-2.86zM5.41 20L4 18.59l7.72-7.72 1.47 1.35L5.41 20z\"/>\n",
              "  </svg>\n",
              "      </button>\n",
              "      \n",
              "  <style>\n",
              "    .colab-df-container {\n",
              "      display:flex;\n",
              "      flex-wrap:wrap;\n",
              "      gap: 12px;\n",
              "    }\n",
              "\n",
              "    .colab-df-convert {\n",
              "      background-color: #E8F0FE;\n",
              "      border: none;\n",
              "      border-radius: 50%;\n",
              "      cursor: pointer;\n",
              "      display: none;\n",
              "      fill: #1967D2;\n",
              "      height: 32px;\n",
              "      padding: 0 0 0 0;\n",
              "      width: 32px;\n",
              "    }\n",
              "\n",
              "    .colab-df-convert:hover {\n",
              "      background-color: #E2EBFA;\n",
              "      box-shadow: 0px 1px 2px rgba(60, 64, 67, 0.3), 0px 1px 3px 1px rgba(60, 64, 67, 0.15);\n",
              "      fill: #174EA6;\n",
              "    }\n",
              "\n",
              "    [theme=dark] .colab-df-convert {\n",
              "      background-color: #3B4455;\n",
              "      fill: #D2E3FC;\n",
              "    }\n",
              "\n",
              "    [theme=dark] .colab-df-convert:hover {\n",
              "      background-color: #434B5C;\n",
              "      box-shadow: 0px 1px 3px 1px rgba(0, 0, 0, 0.15);\n",
              "      filter: drop-shadow(0px 1px 2px rgba(0, 0, 0, 0.3));\n",
              "      fill: #FFFFFF;\n",
              "    }\n",
              "  </style>\n",
              "\n",
              "      <script>\n",
              "        const buttonEl =\n",
              "          document.querySelector('#df-0dcdf00b-5c07-4502-9a6c-2359af0243b9 button.colab-df-convert');\n",
              "        buttonEl.style.display =\n",
              "          google.colab.kernel.accessAllowed ? 'block' : 'none';\n",
              "\n",
              "        async function convertToInteractive(key) {\n",
              "          const element = document.querySelector('#df-0dcdf00b-5c07-4502-9a6c-2359af0243b9');\n",
              "          const dataTable =\n",
              "            await google.colab.kernel.invokeFunction('convertToInteractive',\n",
              "                                                     [key], {});\n",
              "          if (!dataTable) return;\n",
              "\n",
              "          const docLinkHtml = 'Like what you see? Visit the ' +\n",
              "            '<a target=\"_blank\" href=https://colab.research.google.com/notebooks/data_table.ipynb>data table notebook</a>'\n",
              "            + ' to learn more about interactive tables.';\n",
              "          element.innerHTML = '';\n",
              "          dataTable['output_type'] = 'display_data';\n",
              "          await google.colab.output.renderOutput(dataTable, element);\n",
              "          const docLink = document.createElement('div');\n",
              "          docLink.innerHTML = docLinkHtml;\n",
              "          element.appendChild(docLink);\n",
              "        }\n",
              "      </script>\n",
              "    </div>\n",
              "  </div>\n",
              "  "
            ]
          },
          "metadata": {},
          "execution_count": 30
        }
      ],
      "source": [
        "\n",
        "from random import sample\n",
        "rows = sample([i for i in range(7613)], 5)\n",
        "Train_data.iloc[rows, :]"
      ]
    },
    {
      "cell_type": "markdown",
      "source": [
        "There are total 7613 observations with no missing values in the dataset. "
      ],
      "metadata": {
        "id": "fkWjm0knH7Vh"
      },
      "id": "fkWjm0knH7Vh"
    },
    {
      "cell_type": "code",
      "execution_count": 31,
      "id": "3d39fa25-d614-434e-beb6-bc1485c1a629",
      "metadata": {
        "id": "3d39fa25-d614-434e-beb6-bc1485c1a629",
        "colab": {
          "base_uri": "https://localhost:8080/",
          "height": 206
        },
        "outputId": "9047e15f-dc51-458b-90c8-0002f35bb276"
      },
      "outputs": [
        {
          "output_type": "execute_result",
          "data": {
            "text/plain": [
              "        id                                               text  target\n",
              "3967  5638  So grateful for all the support flooding in fr...       1\n",
              "222    315  @AmirKingKhan you would have been annihilated ...       0\n",
              "2273  3260  Just us four can demolish this?? @Createduniqu...       0\n",
              "2211  3167  Despite the deluge of #FantasticFour notices o...       0\n",
              "3404  4874  See these guys reaching the front foot out loa...       0"
            ],
            "text/html": [
              "\n",
              "  <div id=\"df-f01855be-b9a7-43c7-8099-38ee7c357d3e\">\n",
              "    <div class=\"colab-df-container\">\n",
              "      <div>\n",
              "<style scoped>\n",
              "    .dataframe tbody tr th:only-of-type {\n",
              "        vertical-align: middle;\n",
              "    }\n",
              "\n",
              "    .dataframe tbody tr th {\n",
              "        vertical-align: top;\n",
              "    }\n",
              "\n",
              "    .dataframe thead th {\n",
              "        text-align: right;\n",
              "    }\n",
              "</style>\n",
              "<table border=\"1\" class=\"dataframe\">\n",
              "  <thead>\n",
              "    <tr style=\"text-align: right;\">\n",
              "      <th></th>\n",
              "      <th>id</th>\n",
              "      <th>text</th>\n",
              "      <th>target</th>\n",
              "    </tr>\n",
              "  </thead>\n",
              "  <tbody>\n",
              "    <tr>\n",
              "      <th>3967</th>\n",
              "      <td>5638</td>\n",
              "      <td>So grateful for all the support flooding in fr...</td>\n",
              "      <td>1</td>\n",
              "    </tr>\n",
              "    <tr>\n",
              "      <th>222</th>\n",
              "      <td>315</td>\n",
              "      <td>@AmirKingKhan you would have been annihilated ...</td>\n",
              "      <td>0</td>\n",
              "    </tr>\n",
              "    <tr>\n",
              "      <th>2273</th>\n",
              "      <td>3260</td>\n",
              "      <td>Just us four can demolish this?? @Createduniqu...</td>\n",
              "      <td>0</td>\n",
              "    </tr>\n",
              "    <tr>\n",
              "      <th>2211</th>\n",
              "      <td>3167</td>\n",
              "      <td>Despite the deluge of #FantasticFour notices o...</td>\n",
              "      <td>0</td>\n",
              "    </tr>\n",
              "    <tr>\n",
              "      <th>3404</th>\n",
              "      <td>4874</td>\n",
              "      <td>See these guys reaching the front foot out loa...</td>\n",
              "      <td>0</td>\n",
              "    </tr>\n",
              "  </tbody>\n",
              "</table>\n",
              "</div>\n",
              "      <button class=\"colab-df-convert\" onclick=\"convertToInteractive('df-f01855be-b9a7-43c7-8099-38ee7c357d3e')\"\n",
              "              title=\"Convert this dataframe to an interactive table.\"\n",
              "              style=\"display:none;\">\n",
              "        \n",
              "  <svg xmlns=\"http://www.w3.org/2000/svg\" height=\"24px\"viewBox=\"0 0 24 24\"\n",
              "       width=\"24px\">\n",
              "    <path d=\"M0 0h24v24H0V0z\" fill=\"none\"/>\n",
              "    <path d=\"M18.56 5.44l.94 2.06.94-2.06 2.06-.94-2.06-.94-.94-2.06-.94 2.06-2.06.94zm-11 1L8.5 8.5l.94-2.06 2.06-.94-2.06-.94L8.5 2.5l-.94 2.06-2.06.94zm10 10l.94 2.06.94-2.06 2.06-.94-2.06-.94-.94-2.06-.94 2.06-2.06.94z\"/><path d=\"M17.41 7.96l-1.37-1.37c-.4-.4-.92-.59-1.43-.59-.52 0-1.04.2-1.43.59L10.3 9.45l-7.72 7.72c-.78.78-.78 2.05 0 2.83L4 21.41c.39.39.9.59 1.41.59.51 0 1.02-.2 1.41-.59l7.78-7.78 2.81-2.81c.8-.78.8-2.07 0-2.86zM5.41 20L4 18.59l7.72-7.72 1.47 1.35L5.41 20z\"/>\n",
              "  </svg>\n",
              "      </button>\n",
              "      \n",
              "  <style>\n",
              "    .colab-df-container {\n",
              "      display:flex;\n",
              "      flex-wrap:wrap;\n",
              "      gap: 12px;\n",
              "    }\n",
              "\n",
              "    .colab-df-convert {\n",
              "      background-color: #E8F0FE;\n",
              "      border: none;\n",
              "      border-radius: 50%;\n",
              "      cursor: pointer;\n",
              "      display: none;\n",
              "      fill: #1967D2;\n",
              "      height: 32px;\n",
              "      padding: 0 0 0 0;\n",
              "      width: 32px;\n",
              "    }\n",
              "\n",
              "    .colab-df-convert:hover {\n",
              "      background-color: #E2EBFA;\n",
              "      box-shadow: 0px 1px 2px rgba(60, 64, 67, 0.3), 0px 1px 3px 1px rgba(60, 64, 67, 0.15);\n",
              "      fill: #174EA6;\n",
              "    }\n",
              "\n",
              "    [theme=dark] .colab-df-convert {\n",
              "      background-color: #3B4455;\n",
              "      fill: #D2E3FC;\n",
              "    }\n",
              "\n",
              "    [theme=dark] .colab-df-convert:hover {\n",
              "      background-color: #434B5C;\n",
              "      box-shadow: 0px 1px 3px 1px rgba(0, 0, 0, 0.15);\n",
              "      filter: drop-shadow(0px 1px 2px rgba(0, 0, 0, 0.3));\n",
              "      fill: #FFFFFF;\n",
              "    }\n",
              "  </style>\n",
              "\n",
              "      <script>\n",
              "        const buttonEl =\n",
              "          document.querySelector('#df-f01855be-b9a7-43c7-8099-38ee7c357d3e button.colab-df-convert');\n",
              "        buttonEl.style.display =\n",
              "          google.colab.kernel.accessAllowed ? 'block' : 'none';\n",
              "\n",
              "        async function convertToInteractive(key) {\n",
              "          const element = document.querySelector('#df-f01855be-b9a7-43c7-8099-38ee7c357d3e');\n",
              "          const dataTable =\n",
              "            await google.colab.kernel.invokeFunction('convertToInteractive',\n",
              "                                                     [key], {});\n",
              "          if (!dataTable) return;\n",
              "\n",
              "          const docLinkHtml = 'Like what you see? Visit the ' +\n",
              "            '<a target=\"_blank\" href=https://colab.research.google.com/notebooks/data_table.ipynb>data table notebook</a>'\n",
              "            + ' to learn more about interactive tables.';\n",
              "          element.innerHTML = '';\n",
              "          dataTable['output_type'] = 'display_data';\n",
              "          await google.colab.output.renderOutput(dataTable, element);\n",
              "          const docLink = document.createElement('div');\n",
              "          docLink.innerHTML = docLinkHtml;\n",
              "          element.appendChild(docLink);\n",
              "        }\n",
              "      </script>\n",
              "    </div>\n",
              "  </div>\n",
              "  "
            ]
          },
          "metadata": {},
          "execution_count": 31
        }
      ],
      "source": [
        "# Remove keyword and location features abd update both test and train datasets\n",
        "Train_Tweets = Train_data[[\"id\", \"text\", \"target\"]].sort_values(by = \"id\")\n",
        "Test_Tweets = Test_data[[\"id\", \"text\"]].sort_values(by = \"id\")\n",
        "\n",
        "# Update the training dataframe\n",
        "Train_Tweets.iloc[rows]"
      ]
    },
    {
      "cell_type": "code",
      "source": [
        "\n",
        "\n",
        "\n",
        "Count_Word = Train_Tweets[Train_Tweets['target'] == 1]['text'].str.split(' ').str.len()\n",
        "\n",
        "fig, axes = plt.subplots( 1, 2, figsize=(15, 5), sharey=True)\n",
        "fig.suptitle('Tweets Word Count')\n",
        "\n",
        "# Disaster Word Count\n",
        "sns.distplot(Count_Word, ax = axes[0])\n",
        "axes[0].set_title('Disaster Word Count')\n",
        "\n",
        "sns.distplot(Count_Word, ax = axes[1], color = color[3])\n",
        "axes[1].set_title('Non Disaster Word Count')"
      ],
      "metadata": {
        "colab": {
          "base_uri": "https://localhost:8080/",
          "height": 388
        },
        "id": "frs2LGYFRpEz",
        "outputId": "8b1670fb-ca41-48b0-fa62-8ad905ce2305"
      },
      "id": "frs2LGYFRpEz",
      "execution_count": 54,
      "outputs": [
        {
          "output_type": "execute_result",
          "data": {
            "text/plain": [
              "Text(0.5, 1.0, 'Non Disaster Word Count')"
            ]
          },
          "metadata": {},
          "execution_count": 54
        },
        {
          "output_type": "display_data",
          "data": {
            "text/plain": [
              "<Figure size 1080x360 with 2 Axes>"
            ],
            "image/png": "[encoded data removed]"
          },
          "metadata": {
            "needs_background": "light"
          }
        }
      ]
    },
    {
      "cell_type": "code",
      "execution_count": 32,
      "id": "c15e8a25-a3ee-4980-b0aa-fec088f60476",
      "metadata": {
        "id": "c15e8a25-a3ee-4980-b0aa-fec088f60476",
        "colab": {
          "base_uri": "https://localhost:8080/"
        },
        "outputId": "41050f65-788b-4c82-f565-ba8f968ffcc4"
      },
      "outputs": [
        {
          "output_type": "stream",
          "name": "stdout",
          "text": [
            "0\n",
            "1000\n",
            "2000\n",
            "3000\n",
            "4000\n",
            "5000\n",
            "6000\n",
            "7000\n",
            "0\n",
            "1000\n",
            "2000\n",
            "3000\n"
          ]
        }
      ],
      "source": [
        "# Apply NLP to the reviews.\n",
        "def fix_stopwords(ds: pd.Series) -> pd.Series: \n",
        "    \n",
        "    for n in range(len(ds)):\n",
        "        if n % 1000 == 0: \n",
        "            print(n)\n",
        "        Words = re.sub('[^a-zA-Z]', ' ', Data_Word[m])                                      \n",
        "        Words = (Words.lower()).split()\n",
        "        Words = [i for i in main_words if not i in set(stopwords.words('english'))]  \n",
        "\n",
        "        lem = WordNetLemmatizer()\n",
        "        Words = [lem.lemmatize(i) for i in Words if len(i) > 1]                    \n",
        "        Words = ' '.join(Words)\n",
        "        Data_Word[n] = Words\n",
        "\n",
        "    return Data_Word\n",
        "\n",
        "#Clean up stopwords from test and train\n",
        "Train_Tweets[\"text\"] = fix_stopwords(Train_Tweets[\"text\"])\n",
        "Test_Tweets[\"text\"] = fix_stopwords(Test_Tweets[\"text\"])"
      ]
    },
    {
      "cell_type": "code",
      "execution_count": 33,
      "id": "bf1efe81-6502-40c1-9b1f-ceb281dd87b1",
      "metadata": {
        "id": "bf1efe81-6502-40c1-9b1f-ceb281dd87b1",
        "colab": {
          "base_uri": "https://localhost:8080/"
        },
        "outputId": "8e44fca4-eef1-469c-a80f-f557e89e9132"
      },
      "outputs": [
        {
          "output_type": "stream",
          "name": "stdout",
          "text": [
            "(7003, 1000) (610, 1000) (3263, 1000)\n",
            "(7003,) (610,)\n"
          ]
        }
      ],
      "source": [
        "\n",
        "Corpus = Train_Tweets[\"text\"].tolist()\n",
        "Vector = TfidfVectorizer(max_features=1000)\n",
        "Response = vector.fit(Corpus)\n",
        "\n",
        "Val = Response.transform(Train_Tweets[\"text\"]).todense()\n",
        "\n",
        "X_train, X_val, y_train, y_val = train_test_split(Val, Train_Tweets[\"target\"], test_size=0.08, random_state=42)\n",
        "\n",
        "X_test = Response.transform(Test_Tweets[\"text\"]).todense()\n",
        "\n",
        "\n",
        "print(X_train.shape, X_val.shape, X_test.shape)\n",
        "print(y_train.shape, y_val.shape)"
      ]
    },
    {
      "cell_type": "markdown",
      "id": "164decb2-9494-4407-af3a-499a51cadf87",
      "metadata": {
        "id": "164decb2-9494-4407-af3a-499a51cadf87"
      },
      "source": [
        "## Model Architecture\n"
      ]
    },
    {
      "cell_type": "code",
      "source": [
        "model = Sequential([\n",
        "    layers.Embedding(3000, 64, input_length = 1000),\n",
        "    layers.Dropout(0.3),\n",
        "    layers.LSTM(100, dropout = 0.3, return_sequences = True, recurrent_dropout = 0.4),\n",
        "    layers.Dropout(0.3),\n",
        "    layers.LSTM(100, dropout = 0.3, recurrent_dropout = 0.4),\n",
        "    layers.Dropout(0.3),\n",
        "    layers.Dense(1, activation='sigmoid')\n",
        "])\n",
        "\n",
        "model.compile(optimizer = keras.optimizers.Adam(0.0005),\n",
        "              loss = 'binary_crossentropy',\n",
        "              metrics = ['accuracy'])"
      ],
      "metadata": {
        "id": "PXatvtc-XE47"
      },
      "id": "PXatvtc-XE47",
      "execution_count": 63,
      "outputs": []
    },
    {
      "cell_type": "code",
      "source": [
        "model.summary()"
      ],
      "metadata": {
        "colab": {
          "base_uri": "https://localhost:8080/"
        },
        "id": "8ss8Pe1SXKGT",
        "outputId": "c36bebc7-85b1-4078-ba61-a5aeb8047774"
      },
      "id": "8ss8Pe1SXKGT",
      "execution_count": 64,
      "outputs": [
        {
          "output_type": "stream",
          "name": "stdout",
          "text": [
            "Model: \"sequential_9\"\n",
            "_________________________________________________________________\n",
            " Layer (type)                Output Shape              Param #   \n",
            "=================================================================\n",
            " embedding_1 (Embedding)     (None, 1000, 64)          192000    \n",
            "                                                                 \n",
            " dropout_19 (Dropout)        (None, 1000, 64)          0         \n",
            "                                                                 \n",
            " lstm_2 (LSTM)               (None, 1000, 100)         66000     \n",
            "                                                                 \n",
            " dropout_20 (Dropout)        (None, 1000, 100)         0         \n",
            "                                                                 \n",
            " lstm_3 (LSTM)               (None, 100)               80400     \n",
            "                                                                 \n",
            " dropout_21 (Dropout)        (None, 100)               0         \n",
            "                                                                 \n",
            " dense_25 (Dense)            (None, 1)                 101       \n",
            "                                                                 \n",
            "=================================================================\n",
            "Total params: 338,501\n",
            "Trainable params: 338,501\n",
            "Non-trainable params: 0\n",
            "_________________________________________________________________\n"
          ]
        }
      ]
    },
    {
      "cell_type": "code",
      "source": [
        "callback = EarlyStopping(monitor='val_loss', patience = 3)\n",
        "reduce_lr = ReduceLROnPlateau(monitor = 'val_loss', factor = 0.2, patience = 3, min_lr = 0.001)\n",
        "history = model.fit(X_train, y_train, epochs = 10, validation_split = 0.2, callbacks = [callback, reduce_lr])"
      ],
      "metadata": {
        "colab": {
          "base_uri": "https://localhost:8080/"
        },
        "id": "kMiN0WKXXPRG",
        "outputId": "f52ac67e-6be7-407f-afcf-eef49a0a83f3"
      },
      "id": "kMiN0WKXXPRG",
      "execution_count": 65,
      "outputs": [
        {
          "output_type": "stream",
          "name": "stdout",
          "text": [
            "Epoch 1/10\n",
            "176/176 [==============================] - 775s 4s/step - loss: 0.6829 - accuracy: 0.5739 - val_loss: 0.6855 - val_accuracy: 0.5625 - lr: 5.0000e-04\n",
            "Epoch 2/10\n",
            "176/176 [==============================] - 764s 4s/step - loss: 0.6833 - accuracy: 0.5741 - val_loss: 0.6854 - val_accuracy: 0.5625 - lr: 5.0000e-04\n",
            "Epoch 3/10\n",
            "176/176 [==============================] - 743s 4s/step - loss: 0.6831 - accuracy: 0.5741 - val_loss: 0.6855 - val_accuracy: 0.5625 - lr: 5.0000e-04\n",
            "Epoch 4/10\n",
            "176/176 [==============================] - 734s 4s/step - loss: 0.6829 - accuracy: 0.5741 - val_loss: 0.6855 - val_accuracy: 0.5625 - lr: 5.0000e-04\n",
            "Epoch 5/10\n",
            "176/176 [==============================] - 746s 4s/step - loss: 0.6829 - accuracy: 0.5741 - val_loss: 0.6854 - val_accuracy: 0.5625 - lr: 5.0000e-04\n"
          ]
        }
      ]
    },
    {
      "cell_type": "markdown",
      "source": [
        " ## Results and Analysis"
      ],
      "metadata": {
        "id": "SVP_KhR3G69-"
      },
      "id": "SVP_KhR3G69-"
    },
    {
      "cell_type": "code",
      "source": [
        "history.history"
      ],
      "metadata": {
        "colab": {
          "base_uri": "https://localhost:8080/"
        },
        "id": "7qKTfxopn2yw",
        "outputId": "c68377b9-165c-4a51-c43a-e4a28fa74794"
      },
      "id": "7qKTfxopn2yw",
      "execution_count": 67,
      "outputs": [
        {
          "output_type": "execute_result",
          "data": {
            "text/plain": [
              "{'loss': [0.6828877925872803,\n",
              "  0.6833112239837646,\n",
              "  0.6830788254737854,\n",
              "  0.6828615069389343,\n",
              "  0.6828737854957581],\n",
              " 'accuracy': [0.5739021897315979,\n",
              "  0.5740807056427002,\n",
              "  0.5740807056427002,\n",
              "  0.5740807056427002,\n",
              "  0.5740807056427002],\n",
              " 'val_loss': [0.6855012774467468,\n",
              "  0.6853928565979004,\n",
              "  0.6854603886604309,\n",
              "  0.6855490803718567,\n",
              "  0.6854026913642883],\n",
              " 'val_accuracy': [0.562455415725708,\n",
              "  0.562455415725708,\n",
              "  0.562455415725708,\n",
              "  0.562455415725708,\n",
              "  0.562455415725708],\n",
              " 'lr': [0.0005, 0.0005, 0.0005, 0.0005, 0.0005]}"
            ]
          },
          "metadata": {},
          "execution_count": 67
        }
      ]
    },
    {
      "cell_type": "code",
      "source": [
        "acc = history.history['accuracy']\n",
        "val_acc = history.history['val_accuracy']\n",
        "\n",
        "loss = history.history['loss']\n",
        "val_loss = history.history['val_loss']\n",
        "\n",
        "epochs_range = range(len(history.epoch))\n",
        "\n",
        "plt.rc('font', size = 15)\n",
        "plt.figure(figsize=(20, 10))\n",
        "plt.subplot(1, 2, 1)\n",
        "plt.plot(epochs_range, acc, label='Training Accuracy', linewidth = 4)\n",
        "plt.plot(epochs_range, val_acc, label='Validation Accuracy', linewidth = 4)\n",
        "\n",
        "plt.legend(loc='lower right')\n",
        "plt.title('Training and Validation Accuracy')\n",
        "\n",
        "plt.subplot(1, 2, 2)\n",
        "plt.plot(epochs_range, loss, label='Training Loss', linewidth = 4)\n",
        "plt.plot(epochs_range, val_loss, label='Validation Loss', linewidth = 4)\n",
        "plt.legend(loc='upper right')\n",
        "plt.title('Training and Validation Loss')\n",
        "plt.show()"
      ],
      "metadata": {
        "colab": {
          "base_uri": "https://localhost:8080/",
          "height": 605
        },
        "id": "zoIClNOEoGzg",
        "outputId": "820f6fc8-857e-40f8-d430-c66a30e9c1bc"
      },
      "id": "zoIClNOEoGzg",
      "execution_count": 81,
      "outputs": [
        {
          "output_type": "display_data",
          "data": {
            "text/plain": [
              "<Figure size 1440x720 with 2 Axes>"
            ],
            "image/png": "[encoded data removed]"
          },
          "metadata": {
            "needs_background": "light"
          }
        }
      ]
    },
    {
      "cell_type": "code",
      "source": [
        "Test_res = pd.read_csv('/content/sample_data/test.csv')\n",
        "Test_res['clean_text'] = Test_res['text'].str.lower() \n",
        "stop_words = list(stopwords.words('english'))  \n",
        "Res = WordNetLemmatizer()\n",
        "Clean_List = []\n",
        "\n",
        "for i in Test_res['clean_text']:\n",
        "    Temp = [lemmatizer.lemmatize(word) for w in row.split() if w not in stop_words]\n",
        "    Temp = ' '.join(clean_temp)\n",
        "    Temp = re.sub(r'http\\S+', '', clean_temp) \n",
        "    Temp = re.sub(r'@\\S+', 'mention_user', clean_temp) \n",
        "    Temp_clean = [n for n in Temp if n not in list(punctuation) and n in list(printable)  and n not in list(digits)]\n",
        "    Temp = ''.join(Temp_clean)\n",
        "    Clean_List.append(Temp)\n",
        "Test_res['clean_text'] = pd.Series(Clean_List)\n",
        "Res_temp = Tokenizer(num_words = 3000, split=' ') \n",
        "Res_temp.fit_on_texts(test_df['clean_text'].values)\n"
      ],
      "metadata": {
        "id": "lsvmdhdNqUxH"
      },
      "id": "lsvmdhdNqUxH",
      "execution_count": 86,
      "outputs": []
    },
    {
      "cell_type": "code",
      "source": [
        "X_Res = tokenizer.texts_to_sequences(test_df['clean_text'].values)\n",
        "X_Res = pad_sequences(X_Res, maxlen = 1000)\n",
        "y_Res = model.predict(X_Res)\n",
        "Res_Data = pd.DataFrame(test_df['id'], columns =['id'])\n",
        "Res_Data['target'] = np.round(y_Res).astype(int).reshape(3263)\n",
        "Res_Data.to_csv('ResPreData.csv', index = False)"
      ],
      "metadata": {
        "colab": {
          "base_uri": "https://localhost:8080/"
        },
        "id": "tEuBFRXVrUE5",
        "outputId": "4197837c-d4ce-46d5-8e5c-f6b3e889b489"
      },
      "id": "tEuBFRXVrUE5",
      "execution_count": 90,
      "outputs": [
        {
          "output_type": "stream",
          "name": "stdout",
          "text": [
            "102/102 [==============================] - 52s 514ms/step\n"
          ]
        }
      ]
    },
    {
      "cell_type": "markdown",
      "id": "316c9da8-aa82-4a0a-8db6-ab89f557071d",
      "metadata": {
        "id": "316c9da8-aa82-4a0a-8db6-ab89f557071d"
      },
      "source": [
        "## Conclusion\n",
        "\n",
        "In this project I try to classify tweets as either disaster or not disaster, and train model in order to predit disaster from tweets. The accuracy of the model I build with the training data are steady through running epochs. There will be many other methods to tune the model and get a better result, but considering the consume of time, in this project I just do little work to make the model fit well.\n",
        "One thing I would like to impove in this project is the model isn't generalized well because there are much noise in the text, I shoudl do more steps in cleaning text. Overall, I learned a lot about using basic natural language processing for analysis text in this project. \n",
        "\n",
        "\n"
      ]
    },
    {
      "cell_type": "code",
      "source": [],
      "metadata": {
        "id": "HYU2DNzyzxPA"
      },
      "id": "HYU2DNzyzxPA",
      "execution_count": null,
      "outputs": []
    }
  ],
  "metadata": {
    "kernelspec": {
      "display_name": "Python 3 (ipykernel)",
      "language": "python",
      "name": "python3"
    },
    "language_info": {
      "codemirror_mode": {
        "name": "ipython",
        "version": 3
      },
      "file_extension": ".py",
      "mimetype": "text/x-python",
      "name": "python",
      "nbconvert_exporter": "python",
      "pygments_lexer": "ipython3",
      "version": "3.9.12"
    },
    "colab": {
      "provenance": []
    }
  },
  "nbformat": 4,
  "nbformat_minor": 5
}